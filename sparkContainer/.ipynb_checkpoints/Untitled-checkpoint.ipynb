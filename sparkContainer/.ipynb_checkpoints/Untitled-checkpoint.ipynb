{
 "cells": [
  {
   "cell_type": "code",
   "execution_count": 1,
   "id": "e3f3cf1b-73be-43e1-91a1-39ed962b21ac",
   "metadata": {},
   "outputs": [],
   "source": [
    "import os\n",
    "import sys \n",
    "\n",
    "from pyspark import SparkContext   \n",
    "import mysql.connector\n",
    "\n",
    "args = sys.argv\n",
    "inp = \"detail-records\"\n",
    "\n",
    "# establish schema\n",
    "schema =[\"driverID\",\"carPlateNumber\",\"Latitude\", \"Longtitude\",\"Speed\",\"Direction\",\"siteName\",\"Time\",\"isRapidlySpeedup\",\"isRapidlySlowdown\",\"isNeutralSlide\",\"isNeutralSlideFinished\",\"neutralSlideTime\",\"isOverspeed\",\"isOverspeedFinished\",\"overspeedTime\",\"isFatigueDriving\",\"isHthrottleStop\",\"isOilLeak\"]\n",
    "\n",
    "sc = SparkContext()\n",
    "\n",
    "text_file = sc.textFile(inp)\n",
    "rdd = text_file.map(lambda line: line.split(\",\"))\n",
    "\n",
    "rddFilterOverspeedTime = rdd.filter(lambda x: len(x) > 13)\n",
    "rddFilterOverspeedTime = rddFilterOverspeedTime.map(lambda x: (x[0], x[3], x[7], x[13]) if (x[13] == 1) else (x[0], x[3], x[7], -1) if (x[14] == 1) else (x[0], x[3], x[7], -1))\n",
    "resultSpeed = rddFilterOverspeedTime.collect()\n",
    "\n",
    "rddFilterNoSpeed = rdd.filter(lambda x: len(x) < 14)\n",
    "rddFilterNoSpeed = rddFilterNoSpeed.map(lambda x: (x[0], x[3], x[7], 0))\n",
    "resultNoSpeed = rddFilterNoSpeed.collect()\n",
    "\n",
    "sc.stop()"
   ]
  },
  {
   "cell_type": "code",
   "execution_count": null,
   "id": "5e30a1c2-861d-494e-8401-057d11326e32",
   "metadata": {},
   "outputs": [],
   "source": [
    "def db_connection():\n",
    "    mydb = mysql.connector.connect( host = 'cloudcompproject.c5v4sxvaiqcz.us-east-1.rds.amazonaws.com',\n",
    "    user = 'clouduser',\n",
    "    port = '3306',\n",
    "    database = '',\n",
    "    passwd = 'cloudcomputing',\n",
    "    autocommit = True)\n",
    "\n",
    "    #print(\"successfully connect to the database\")\n",
    "    \n",
    "    return mydb\n",
    "\n",
    "mydb = db_connection()\n",
    "cur = mydb.cursor()\n",
    "\n",
    "for row in resultSpeed:\n",
    "    sql = \"insert into userTable.partBTable(driverID, speed, time, overspeed) values (\\\"{0}\\\", {1}, \\\"{2}\\\", {3});\".format(row[0], row[1], row[2], row[3])\n",
    "    ret = cur.execute(sql)"
   ]
  },
  {
   "cell_type": "code",
   "execution_count": null,
   "id": "4481200e-0938-44df-a262-3092e5b0d77d",
   "metadata": {},
   "outputs": [],
   "source": [
    "for row in resultNoSpeed:\n",
    "    sql = \"insert into userTable.partBTable(driverID, speed, time, overspeed) values (\\\"{0}\\\", {1}, \\\"{2}\\\", {3});\".format(row[0], row[1], row[2], row[3])\n",
    "    ret = cur.execute(sql)"
   ]
  },
  {
   "cell_type": "markdown",
   "id": "d7500a45-77f3-447e-ba9e-e2d0194a500f",
   "metadata": {},
   "source": []
  }
 ],
 "metadata": {
  "kernelspec": {
   "display_name": "Python 3 (ipykernel)",
   "language": "python",
   "name": "python3"
  },
  "language_info": {
   "codemirror_mode": {
    "name": "ipython",
    "version": 3
   },
   "file_extension": ".py",
   "mimetype": "text/x-python",
   "name": "python",
   "nbconvert_exporter": "python",
   "pygments_lexer": "ipython3",
   "version": "3.9.10"
  }
 },
 "nbformat": 4,
 "nbformat_minor": 5
}
