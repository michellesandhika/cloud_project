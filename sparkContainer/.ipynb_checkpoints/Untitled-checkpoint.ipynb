{
 "cells": [
  {
   "cell_type": "code",
   "execution_count": 1,
   "id": "e3f3cf1b-73be-43e1-91a1-39ed962b21ac",
   "metadata": {},
   "outputs": [],
   "source": [
    "import os\n",
    "import sys \n",
    "\n",
    "from pyspark import SparkContext    \n",
    "\n",
    "args = sys.argv\n",
    "inp = \"detail-records/detail_record_2017_01_02_08_00_00\"\n",
    "out = \"slicedtime\"\n",
    "out2 = \"noSpeed\"\n",
    "\n",
    "# establish schema\n",
    "schema =[\"driverID\",\"carPlateNumber\",\"Latitude\", \"Longtitude\",\"Speed\",\"Direction\",\"siteName\",\"Time\",\"isRapidlySpeedup\",\"isRapidlySlowdown\",\"isNeutralSlide\",\"isNeutralSlideFinished\",\"neutralSlideTime\",\"isOverspeed\",\"isOverspeedFinished\",\"overspeedTime\",\"isFatigueDriving\",\"isHthrottleStop\",\"isOilLeak\"]\n",
    "\n",
    "sc = SparkContext()\n",
    "\n",
    "text_file = sc.textFile(inp)\n",
    "rdd = text_file.map(lambda line: line.split(\",\"))\n",
    "\n",
    "rddFilterOverspeedTime = rdd.filter(lambda x: len(x) > 13)\n",
    "rddFilterOverspeedTime = rddFilterOverspeedTime.map(lambda x: (x[1], x[3], x[7], x[13]) if (x[13] == \"1\") else (x[1], x[3], x[7], \"-1\"))\n",
    "rddFilterOverspeedTime.saveAsTextFile(out)\n",
    "\n",
    "rddFilterNoSpeed = rdd.filter(lambda x: len(x) < 14)\n",
    "rddFilterNoSpeed = rddFilterNoSpeed.map(lambda x: (x[1], x[3], x[7]))\n",
    "rddFilterNoSpeed.saveAsTextFile(out2)\n",
    "\n",
    "# rddFilteredLength.saveAsTextFile(out2)\n",
    "\n",
    "sc.stop()"
   ]
  },
  {
   "cell_type": "markdown",
   "id": "d7500a45-77f3-447e-ba9e-e2d0194a500f",
   "metadata": {},
   "source": []
  }
 ],
 "metadata": {
  "kernelspec": {
   "display_name": "Python 3 (ipykernel)",
   "language": "python",
   "name": "python3"
  },
  "language_info": {
   "codemirror_mode": {
    "name": "ipython",
    "version": 3
   },
   "file_extension": ".py",
   "mimetype": "text/x-python",
   "name": "python",
   "nbconvert_exporter": "python",
   "pygments_lexer": "ipython3",
   "version": "3.9.10"
  }
 },
 "nbformat": 4,
 "nbformat_minor": 5
}
